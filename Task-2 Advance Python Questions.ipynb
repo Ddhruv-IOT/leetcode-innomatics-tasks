{
 "cells": [
  {
   "cell_type": "markdown",
   "id": "91567df3",
   "metadata": {},
   "source": [
    "## Q1.  Defanging an IP Address"
   ]
  },
  {
   "cell_type": "markdown",
   "id": "75b349da",
   "metadata": {},
   "source": [
    "### O(n) Based Approach"
   ]
  },
  {
   "cell_type": "code",
   "execution_count": 1,
   "id": "69010cf8",
   "metadata": {},
   "outputs": [],
   "source": [
    "address = \"1.1.1.1\""
   ]
  },
  {
   "cell_type": "code",
   "execution_count": 2,
   "id": "1a0f6ba6",
   "metadata": {},
   "outputs": [],
   "source": [
    "defang_ip = ''\n",
    "\n",
    "for idx in range(len(address)):\n",
    "    \n",
    "    if address[idx] == '.':\n",
    "        defang_ip += \"[.]\"        \n",
    "    else:\n",
    "        defang_ip += address[idx]"
   ]
  },
  {
   "cell_type": "code",
   "execution_count": 3,
   "id": "6b1f85ea",
   "metadata": {},
   "outputs": [
    {
     "data": {
      "text/plain": [
       "'1[.]1[.]1[.]1'"
      ]
     },
     "execution_count": 3,
     "metadata": {},
     "output_type": "execute_result"
    }
   ],
   "source": [
    "defang_ip"
   ]
  },
  {
   "cell_type": "markdown",
   "id": "f04f871b",
   "metadata": {},
   "source": [
    "Check my Submission: https://leetcode.com/problems/defanging-an-ip-address/submissions/907531299/"
   ]
  },
  {
   "cell_type": "markdown",
   "id": "e5ce1900",
   "metadata": {},
   "source": [
    "## Q2.  Find Numbers with Even Number of Digits"
   ]
  },
  {
   "cell_type": "markdown",
   "id": "23687c82",
   "metadata": {},
   "source": [
    "### Naive Solution"
   ]
  },
  {
   "cell_type": "code",
   "execution_count": 4,
   "id": "bd9f26f5",
   "metadata": {},
   "outputs": [],
   "source": [
    "nums = [555, 901, 482, 1771, 1000]"
   ]
  },
  {
   "cell_type": "code",
   "execution_count": 5,
   "id": "5093435c",
   "metadata": {},
   "outputs": [
    {
     "name": "stdout",
     "output_type": "stream",
     "text": [
      "2\n"
     ]
    }
   ],
   "source": [
    "eve_counter = 0\n",
    "\n",
    "for idx in range(len(nums)):\n",
    "    \n",
    "    counter = 0\n",
    "    \n",
    "    while(nums[idx]):\n",
    "        nums[idx] //= 10\n",
    "        counter += 1\n",
    "    \n",
    "    if counter % 2 == 0:\n",
    "        eve_counter += 1\n",
    "\n",
    "print(eve_counter)        "
   ]
  },
  {
   "cell_type": "markdown",
   "id": "5ff29f88",
   "metadata": {},
   "source": [
    "Check my Submission: https://leetcode.com/problems/find-numbers-with-even-number-of-digits/submissions/907568756/"
   ]
  },
  {
   "cell_type": "markdown",
   "id": "9515d2bf",
   "metadata": {},
   "source": [
    "### Better Approach"
   ]
  },
  {
   "cell_type": "code",
   "execution_count": 6,
   "id": "6f8e9224",
   "metadata": {},
   "outputs": [],
   "source": [
    "nums = [555, 901, 482, 1771, 1000]"
   ]
  },
  {
   "cell_type": "code",
   "execution_count": 7,
   "id": "034cf0aa",
   "metadata": {},
   "outputs": [
    {
     "data": {
      "text/plain": [
       "2"
      ]
     },
     "execution_count": 7,
     "metadata": {},
     "output_type": "execute_result"
    }
   ],
   "source": [
    "len([num for num in nums if len(str(num)) % 2 == 0])"
   ]
  },
  {
   "cell_type": "markdown",
   "id": "61bc8758",
   "metadata": {},
   "source": [
    "Check my Submission: https://leetcode.com/problems/find-numbers-with-even-number-of-digits/submissions/907570446/"
   ]
  },
  {
   "cell_type": "markdown",
   "id": "154a5fd8",
   "metadata": {},
   "source": [
    "## Q3. Number of Good Pairs"
   ]
  },
  {
   "cell_type": "markdown",
   "id": "5e828363",
   "metadata": {},
   "source": [
    "### Naive Solution"
   ]
  },
  {
   "cell_type": "code",
   "execution_count": 8,
   "id": "97ebe8a9",
   "metadata": {},
   "outputs": [],
   "source": [
    "nums = [1, 2, 3, 1, 1, 3]"
   ]
  },
  {
   "cell_type": "code",
   "execution_count": 9,
   "id": "bbccf051",
   "metadata": {},
   "outputs": [
    {
     "name": "stdout",
     "output_type": "stream",
     "text": [
      "4\n"
     ]
    }
   ],
   "source": [
    "count = 0\n",
    "\n",
    "for idx in range(len(nums)): \n",
    "    for j in range(idx, len(nums)):\n",
    "        if nums[idx] == nums[j] and idx < j :\n",
    "            count+=1\n",
    "print(count)"
   ]
  },
  {
   "cell_type": "markdown",
   "id": "c9772a02",
   "metadata": {},
   "source": [
    "Check my Submission: https://leetcode.com/problems/number-of-good-pairs/submissions/907614747/"
   ]
  },
  {
   "cell_type": "markdown",
   "id": "16952a17",
   "metadata": {},
   "source": [
    "### Better Approach"
   ]
  },
  {
   "cell_type": "code",
   "execution_count": 10,
   "id": "67f75016",
   "metadata": {},
   "outputs": [],
   "source": [
    "nums = [1, 2, 3, 1, 1, 3]"
   ]
  },
  {
   "cell_type": "code",
   "execution_count": 11,
   "id": "d8e5302a",
   "metadata": {},
   "outputs": [],
   "source": [
    "hmap = {}\n",
    "count = 0 \n",
    "\n",
    "for num in nums: \n",
    "    \n",
    "    if num in hmap: \n",
    "        count += hmap[num]\n",
    "        hmap[num] += 1  # increase the frequency\n",
    "        \n",
    "    else:\n",
    "        hmap[num] = 1  # assign the default frequency "
   ]
  },
  {
   "cell_type": "code",
   "execution_count": 12,
   "id": "9d5ba9b2",
   "metadata": {},
   "outputs": [
    {
     "data": {
      "text/plain": [
       "{1: 3, 2: 1, 3: 2}"
      ]
     },
     "execution_count": 12,
     "metadata": {},
     "output_type": "execute_result"
    }
   ],
   "source": [
    "hmap"
   ]
  },
  {
   "cell_type": "code",
   "execution_count": 13,
   "id": "3a54663d",
   "metadata": {},
   "outputs": [
    {
     "data": {
      "text/plain": [
       "4"
      ]
     },
     "execution_count": 13,
     "metadata": {},
     "output_type": "execute_result"
    }
   ],
   "source": [
    "count"
   ]
  },
  {
   "cell_type": "markdown",
   "id": "9956c699",
   "metadata": {},
   "source": [
    "Check my Submission: https://leetcode.com/problems/number-of-good-pairs/submissions/907615299/"
   ]
  },
  {
   "cell_type": "markdown",
   "id": "cdcda3cc",
   "metadata": {},
   "source": [
    "## Q4. How Many Numbers Are Smaller Than the Current Number"
   ]
  },
  {
   "cell_type": "markdown",
   "id": "ebbc6ebf",
   "metadata": {},
   "source": [
    "### Naive Solution"
   ]
  },
  {
   "cell_type": "code",
   "execution_count": 14,
   "id": "e5a29ae6",
   "metadata": {},
   "outputs": [],
   "source": [
    "nums = [8, 1, 2, 2, 3]"
   ]
  },
  {
   "cell_type": "code",
   "execution_count": 15,
   "id": "ad3b794c",
   "metadata": {},
   "outputs": [],
   "source": [
    "ans = []\n",
    "\n",
    "for i in range(len(nums)):\n",
    "    count = 0\n",
    "    for j in range(len(nums)):\n",
    "        if nums[i] > nums[j]:\n",
    "                count += 1\n",
    "    ans.append(count)"
   ]
  },
  {
   "cell_type": "code",
   "execution_count": 16,
   "id": "8dd9844f",
   "metadata": {},
   "outputs": [
    {
     "data": {
      "text/plain": [
       "[4, 0, 1, 1, 3]"
      ]
     },
     "execution_count": 16,
     "metadata": {},
     "output_type": "execute_result"
    }
   ],
   "source": [
    "ans"
   ]
  },
  {
   "cell_type": "markdown",
   "id": "cfa7bc1e",
   "metadata": {},
   "source": [
    "Check my Submission: https://leetcode.com/problems/how-many-numbers-are-smaller-than-the-current-number/submissions/907704208/"
   ]
  },
  {
   "cell_type": "markdown",
   "id": "00941833",
   "metadata": {},
   "source": [
    "### Better Approach"
   ]
  },
  {
   "cell_type": "code",
   "execution_count": 17,
   "id": "e8b5c1b2",
   "metadata": {},
   "outputs": [],
   "source": [
    "nums = [8, 1, 2, 2, 3]"
   ]
  },
  {
   "cell_type": "code",
   "execution_count": 18,
   "id": "6dc55b46",
   "metadata": {},
   "outputs": [],
   "source": [
    "x = sorted(nums)\n",
    "maps = {}\n",
    "res = []\n",
    "\n",
    "for i in range(len(x)):\n",
    "    if x[i] not in maps:\n",
    "        maps[x[i]] = i\n",
    "        \n",
    "for i in nums:\n",
    "    res.append(maps[i])"
   ]
  },
  {
   "cell_type": "code",
   "execution_count": 19,
   "id": "1b705509",
   "metadata": {},
   "outputs": [
    {
     "data": {
      "text/plain": [
       "[4, 0, 1, 1, 3]"
      ]
     },
     "execution_count": 19,
     "metadata": {},
     "output_type": "execute_result"
    }
   ],
   "source": [
    "res"
   ]
  },
  {
   "cell_type": "markdown",
   "id": "d1891f64",
   "metadata": {},
   "source": [
    "Check my Submission: https://leetcode.com/problems/how-many-numbers-are-smaller-than-the-current-number/submissions/907705350/"
   ]
  },
  {
   "cell_type": "markdown",
   "id": "8d247da6",
   "metadata": {},
   "source": [
    "## Q5. Subtract the Product and Sum of Digits of an Integer"
   ]
  },
  {
   "cell_type": "code",
   "execution_count": 20,
   "id": "2261f5f9",
   "metadata": {},
   "outputs": [],
   "source": [
    "n = 234"
   ]
  },
  {
   "cell_type": "code",
   "execution_count": 21,
   "id": "a7f6a563",
   "metadata": {},
   "outputs": [
    {
     "name": "stdout",
     "output_type": "stream",
     "text": [
      "15\n"
     ]
    }
   ],
   "source": [
    "sum_ = 0\n",
    "product = 1\n",
    "\n",
    "while(n):\n",
    "    digit = n % 10\n",
    "    sum_ += digit \n",
    "    product *= digit\n",
    "    n //= 10\n",
    "\n",
    "print(product - sum_)"
   ]
  },
  {
   "cell_type": "markdown",
   "id": "aab60c3b",
   "metadata": {},
   "source": [
    "Check my Submission: https://leetcode.com/problems/subtract-the-product-and-sum-of-digits-of-an-integer/submissions/907710103/"
   ]
  },
  {
   "cell_type": "markdown",
   "id": "eef84dd6",
   "metadata": {},
   "source": [
    "## Q6. XOR Operation in an Array"
   ]
  },
  {
   "cell_type": "code",
   "execution_count": 22,
   "id": "4a8c3ad4",
   "metadata": {},
   "outputs": [],
   "source": [
    "n = 4\n",
    "start = 3"
   ]
  },
  {
   "cell_type": "code",
   "execution_count": 23,
   "id": "23f6fcfb",
   "metadata": {},
   "outputs": [],
   "source": [
    "nums = [0] * n\n",
    "xor = 0\n",
    "for i in range(n):\n",
    "    nums[i] = start + 2 * i\n",
    "    xor ^= nums[i]"
   ]
  },
  {
   "cell_type": "code",
   "execution_count": 24,
   "id": "60600d48",
   "metadata": {},
   "outputs": [
    {
     "data": {
      "text/plain": [
       "[3, 5, 7, 9]"
      ]
     },
     "execution_count": 24,
     "metadata": {},
     "output_type": "execute_result"
    }
   ],
   "source": [
    "nums"
   ]
  },
  {
   "cell_type": "code",
   "execution_count": 25,
   "id": "d46abe8f",
   "metadata": {},
   "outputs": [
    {
     "data": {
      "text/plain": [
       "8"
      ]
     },
     "execution_count": 25,
     "metadata": {},
     "output_type": "execute_result"
    }
   ],
   "source": [
    "xor"
   ]
  },
  {
   "cell_type": "markdown",
   "id": "566d5d0e",
   "metadata": {},
   "source": [
    "Check my Submission: https://leetcode.com/problems/xor-operation-in-an-array/submissions/907714984/"
   ]
  }
 ],
 "metadata": {
  "kernelspec": {
   "display_name": "Python 3",
   "language": "python",
   "name": "python3"
  },
  "language_info": {
   "codemirror_mode": {
    "name": "ipython",
    "version": 3
   },
   "file_extension": ".py",
   "mimetype": "text/x-python",
   "name": "python",
   "nbconvert_exporter": "python",
   "pygments_lexer": "ipython3",
   "version": "3.8.10"
  }
 },
 "nbformat": 4,
 "nbformat_minor": 5
}
