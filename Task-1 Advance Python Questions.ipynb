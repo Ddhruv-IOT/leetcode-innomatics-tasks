{
 "cells": [
  {
   "cell_type": "markdown",
   "id": "fdac1e29",
   "metadata": {},
   "source": [
    "## Q1. Running Sum of 1d Array"
   ]
  },
  {
   "cell_type": "markdown",
   "id": "20641ffb",
   "metadata": {},
   "source": [
    "### Naive Approach O(n^2)"
   ]
  },
  {
   "cell_type": "code",
   "execution_count": 1,
   "id": "0c04e1f6",
   "metadata": {},
   "outputs": [],
   "source": [
    "nums = [1, 2, 3, 4]"
   ]
  },
  {
   "cell_type": "code",
   "execution_count": 2,
   "id": "1f92bd24",
   "metadata": {},
   "outputs": [],
   "source": [
    "new_num = []\n",
    "\n",
    "for idx in range(0, len(nums)):\n",
    "    sum_final = 0    \n",
    "    for i in range(idx + 1):\n",
    "        sum_final += nums[i]\n",
    "        \n",
    "    new_num.append(sum_final)"
   ]
  },
  {
   "cell_type": "code",
   "execution_count": 3,
   "id": "0bf317ba",
   "metadata": {},
   "outputs": [
    {
     "data": {
      "text/plain": [
       "[1, 3, 6, 10]"
      ]
     },
     "execution_count": 3,
     "metadata": {},
     "output_type": "execute_result"
    }
   ],
   "source": [
    "new_num"
   ]
  },
  {
   "cell_type": "markdown",
   "id": "218d7232",
   "metadata": {},
   "source": [
    "### Better Approach O(n)"
   ]
  },
  {
   "cell_type": "code",
   "execution_count": 4,
   "id": "dea6c2ff",
   "metadata": {},
   "outputs": [],
   "source": [
    "for idx in range(1, len(nums)):\n",
    "    nums[idx] += nums[idx-1]"
   ]
  },
  {
   "cell_type": "code",
   "execution_count": 5,
   "id": "bc893580",
   "metadata": {},
   "outputs": [
    {
     "data": {
      "text/plain": [
       "[1, 3, 6, 10]"
      ]
     },
     "execution_count": 5,
     "metadata": {},
     "output_type": "execute_result"
    }
   ],
   "source": [
    "nums"
   ]
  },
  {
   "cell_type": "markdown",
   "id": "d4ad3367",
   "metadata": {},
   "source": [
    "Check my Submission: https://leetcode.com/problems/running-sum-of-1d-array/submissions/907253761/"
   ]
  },
  {
   "cell_type": "markdown",
   "id": "85f3ac06",
   "metadata": {},
   "source": [
    "## Q2. Shuffle the Array"
   ]
  },
  {
   "cell_type": "markdown",
   "id": "2af706c4",
   "metadata": {},
   "source": [
    "### Naive Approach "
   ]
  },
  {
   "cell_type": "code",
   "execution_count": 6,
   "id": "ec0927b7",
   "metadata": {},
   "outputs": [],
   "source": [
    "nums = [2, 5, 1, 3, 4, 7]"
   ]
  },
  {
   "cell_type": "code",
   "execution_count": 7,
   "id": "7cf96872",
   "metadata": {},
   "outputs": [],
   "source": [
    "n = 3 # breaking index no"
   ]
  },
  {
   "cell_type": "code",
   "execution_count": 8,
   "id": "6fdc8251",
   "metadata": {},
   "outputs": [],
   "source": [
    "split_arr = []\n",
    "\n",
    "for idx in range(n, len(nums)):\n",
    "    split_arr.append(nums[idx])"
   ]
  },
  {
   "cell_type": "code",
   "execution_count": 9,
   "id": "da72f2be",
   "metadata": {},
   "outputs": [],
   "source": [
    "split_arr2 = []\n",
    "\n",
    "for idx in range(0, n):\n",
    "    split_arr2.append(nums[idx])"
   ]
  },
  {
   "cell_type": "code",
   "execution_count": 10,
   "id": "a7eb47d6",
   "metadata": {},
   "outputs": [],
   "source": [
    "nums_final = []\n",
    "\n",
    "for i, j in zip(split_arr, split_arr2):\n",
    "    nums_final.append(j)\n",
    "    nums_final.append(i)"
   ]
  },
  {
   "cell_type": "code",
   "execution_count": 11,
   "id": "1c513c7a",
   "metadata": {},
   "outputs": [
    {
     "data": {
      "text/plain": [
       "[2, 3, 5, 4, 1, 7]"
      ]
     },
     "execution_count": 11,
     "metadata": {},
     "output_type": "execute_result"
    }
   ],
   "source": [
    "nums_final"
   ]
  },
  {
   "cell_type": "markdown",
   "id": "08ea3242",
   "metadata": {},
   "source": [
    "### Better Approach O(n)"
   ]
  },
  {
   "cell_type": "code",
   "execution_count": 12,
   "id": "1bbdfdb6",
   "metadata": {},
   "outputs": [],
   "source": [
    "final = []\n",
    "\n",
    "for idx in (range((len(nums))//2)):\n",
    "        final.append(nums[idx])\n",
    "        final.append(nums[idx+n])"
   ]
  },
  {
   "cell_type": "code",
   "execution_count": 13,
   "id": "29f05162",
   "metadata": {},
   "outputs": [
    {
     "data": {
      "text/plain": [
       "[2, 3, 5, 4, 1, 7]"
      ]
     },
     "execution_count": 13,
     "metadata": {},
     "output_type": "execute_result"
    }
   ],
   "source": [
    "final"
   ]
  },
  {
   "cell_type": "markdown",
   "id": "5673719b",
   "metadata": {},
   "source": [
    "Check my Submission: https://leetcode.com/problems/shuffle-the-array/submissions/907272342/"
   ]
  },
  {
   "cell_type": "markdown",
   "id": "e0640719",
   "metadata": {},
   "source": [
    "## Q3. Kids With the Greatest Number of Candies"
   ]
  },
  {
   "cell_type": "markdown",
   "id": "e509d698",
   "metadata": {},
   "source": [
    "### Better Approach O(n)"
   ]
  },
  {
   "cell_type": "code",
   "execution_count": 14,
   "id": "e87d926c",
   "metadata": {},
   "outputs": [],
   "source": [
    "candies = [2, 3, 5, 1, 3]"
   ]
  },
  {
   "cell_type": "code",
   "execution_count": 15,
   "id": "84b16197",
   "metadata": {},
   "outputs": [],
   "source": [
    "extraCandies = 3"
   ]
  },
  {
   "cell_type": "code",
   "execution_count": 16,
   "id": "6ff4ddc5",
   "metadata": {},
   "outputs": [],
   "source": [
    "max_avl = 0\n",
    "\n",
    "for idx in range(len(candies)):\n",
    "    if candies[idx] > max_avl:\n",
    "        max_avl = candies[idx]\n",
    "        \n",
    "for idx in range(len(candies)):\n",
    "    \n",
    "    if ((candies[idx] + extraCandies) >= max_avl):\n",
    "        candies[idx] = True\n",
    "    else:\n",
    "        candies[idx] = False\n",
    "        "
   ]
  },
  {
   "cell_type": "code",
   "execution_count": 17,
   "id": "6edcdd3f",
   "metadata": {},
   "outputs": [
    {
     "data": {
      "text/plain": [
       "[True, True, True, False, True]"
      ]
     },
     "execution_count": 17,
     "metadata": {},
     "output_type": "execute_result"
    }
   ],
   "source": [
    "candies"
   ]
  },
  {
   "cell_type": "markdown",
   "id": "7e57cda3",
   "metadata": {},
   "source": [
    "Check my Submission: https://leetcode.com/problems/kids-with-the-greatest-number-of-candies/submissions/907300028/"
   ]
  }
 ],
 "metadata": {
  "kernelspec": {
   "display_name": "Python 3",
   "language": "python",
   "name": "python3"
  },
  "language_info": {
   "codemirror_mode": {
    "name": "ipython",
    "version": 3
   },
   "file_extension": ".py",
   "mimetype": "text/x-python",
   "name": "python",
   "nbconvert_exporter": "python",
   "pygments_lexer": "ipython3",
   "version": "3.8.10"
  }
 },
 "nbformat": 4,
 "nbformat_minor": 5
}
