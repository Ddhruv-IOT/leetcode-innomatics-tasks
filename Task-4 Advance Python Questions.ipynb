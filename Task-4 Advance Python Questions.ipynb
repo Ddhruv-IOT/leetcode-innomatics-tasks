{
 "cells": [
  {
   "cell_type": "markdown",
   "id": "c6431d3f",
   "metadata": {},
   "source": [
    "## Q1. Single Number"
   ]
  },
  {
   "cell_type": "code",
   "execution_count": 1,
   "id": "aa93c5f8",
   "metadata": {},
   "outputs": [],
   "source": [
    "nums = [2, 2, 1]"
   ]
  },
  {
   "cell_type": "code",
   "execution_count": 2,
   "id": "05e1969e",
   "metadata": {},
   "outputs": [
    {
     "name": "stdout",
     "output_type": "stream",
     "text": [
      "1\n"
     ]
    }
   ],
   "source": [
    "single_number = 0\n",
    "\n",
    "for num in nums:\n",
    "    single_number ^= num\n",
    "\n",
    "print(single_number)\n",
    "    "
   ]
  },
  {
   "cell_type": "markdown",
   "id": "dc8cd5e2",
   "metadata": {},
   "source": [
    "Check my Submission: https://leetcode.com/problems/single-number/submissions/909074941/"
   ]
  },
  {
   "cell_type": "markdown",
   "id": "a200f8bd",
   "metadata": {},
   "source": [
    "## Q2. Sort Integers by The Number of 1 Bits"
   ]
  },
  {
   "cell_type": "code",
   "execution_count": 3,
   "id": "20ea4c83",
   "metadata": {},
   "outputs": [],
   "source": [
    "arr = [0, 1, 2, 3, 4, 5, 6, 7, 8]"
   ]
  },
  {
   "cell_type": "code",
   "execution_count": 4,
   "id": "bcca6d6c",
   "metadata": {},
   "outputs": [
    {
     "name": "stdout",
     "output_type": "stream",
     "text": [
      "[0, 1, 2, 4, 8, 3, 5, 6, 7]\n"
     ]
    }
   ],
   "source": [
    "sort_arr = []\n",
    "\n",
    "for num in arr:\n",
    "    count = bin(num)[2:].count(\"1\")\n",
    "    sort_arr.append([count, num])\n",
    "        \n",
    "sort_arr.sort()\n",
    "arr = [num for c, num in sort_arr]\n",
    "print(arr)"
   ]
  },
  {
   "cell_type": "markdown",
   "id": "14e14796",
   "metadata": {},
   "source": [
    "Check my Submission: https://leetcode.com/problems/sort-integers-by-the-number-of-1-bits/submissions/909092664/"
   ]
  },
  {
   "cell_type": "markdown",
   "id": "87a3f581",
   "metadata": {},
   "source": [
    "## Q3. Single Number III"
   ]
  },
  {
   "cell_type": "code",
   "execution_count": 5,
   "id": "174bc806",
   "metadata": {},
   "outputs": [],
   "source": [
    "nums = [1, 2, 1, 3, 2, 5]"
   ]
  },
  {
   "cell_type": "code",
   "execution_count": 6,
   "id": "7bfccaad",
   "metadata": {},
   "outputs": [
    {
     "name": "stdout",
     "output_type": "stream",
     "text": [
      "6\n"
     ]
    }
   ],
   "source": [
    "single_number = 0\n",
    "\n",
    "for num in nums:\n",
    "    single_number ^= num\n",
    "\n",
    "print(single_number)\n",
    "    "
   ]
  },
  {
   "cell_type": "code",
   "execution_count": 7,
   "id": "cf2a0174",
   "metadata": {},
   "outputs": [
    {
     "name": "stdout",
     "output_type": "stream",
     "text": [
      "[5, 3]\n"
     ]
    }
   ],
   "source": [
    "lsb = single_number & -single_number  \n",
    "num_1 = 0 \n",
    "\n",
    "for num in nums:\n",
    "    if lsb & num == 0:\n",
    "        num_1 ^= num\n",
    "\n",
    "print([num_1, single_number ^ num_1])"
   ]
  },
  {
   "cell_type": "markdown",
   "id": "d9871801",
   "metadata": {},
   "source": [
    "Check my Submission: https://leetcode.com/problems/single-number-iii/submissions/909677592/"
   ]
  },
  {
   "cell_type": "markdown",
   "id": "cf77098f",
   "metadata": {},
   "source": [
    "## Q4. Subsets"
   ]
  },
  {
   "cell_type": "code",
   "execution_count": 8,
   "id": "f79a0e75",
   "metadata": {},
   "outputs": [],
   "source": [
    "nums = [1, 2, 3]"
   ]
  },
  {
   "cell_type": "code",
   "execution_count": 9,
   "id": "b9666934",
   "metadata": {},
   "outputs": [
    {
     "name": "stdout",
     "output_type": "stream",
     "text": [
      "[[], [3], [2], [2, 3], [1], [1, 3], [1, 2], [1, 2, 3]]\n"
     ]
    }
   ],
   "source": [
    "l = len(nums)\n",
    "ans = []\n",
    "\n",
    "def subs(idx, lst):\n",
    "    if idx >= l:\n",
    "        ans.append(lst)\n",
    "        return\n",
    "    subs(idx+1, lst)\n",
    "    subs(idx+1, lst+[nums[idx]])\n",
    "subs(0,  [])\n",
    "\n",
    "print(ans)"
   ]
  },
  {
   "cell_type": "markdown",
   "id": "d8af9b47",
   "metadata": {},
   "source": [
    "Check my Submission: https://leetcode.com/problems/subsets/submissions/909680906/"
   ]
  },
  {
   "cell_type": "code",
   "execution_count": null,
   "id": "878feca0",
   "metadata": {},
   "outputs": [],
   "source": []
  }
 ],
 "metadata": {
  "kernelspec": {
   "display_name": "Python 3",
   "language": "python",
   "name": "python3"
  },
  "language_info": {
   "codemirror_mode": {
    "name": "ipython",
    "version": 3
   },
   "file_extension": ".py",
   "mimetype": "text/x-python",
   "name": "python",
   "nbconvert_exporter": "python",
   "pygments_lexer": "ipython3",
   "version": "3.8.10"
  }
 },
 "nbformat": 4,
 "nbformat_minor": 5
}
