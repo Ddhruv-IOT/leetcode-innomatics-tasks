{
 "cells": [
  {
   "cell_type": "markdown",
   "id": "01a3ebef",
   "metadata": {},
   "source": [
    "## Q1. Subsets"
   ]
  },
  {
   "cell_type": "code",
   "execution_count": 1,
   "id": "7a9c46ce",
   "metadata": {},
   "outputs": [],
   "source": [
    "num = [1, 2, 3]"
   ]
  },
  {
   "cell_type": "code",
   "execution_count": 2,
   "id": "6db6e044",
   "metadata": {},
   "outputs": [],
   "source": [
    "op = []\n",
    "for i in range(2**len(num)):\n",
    "    sl = []\n",
    "    for idx in range(len(num)):\n",
    "        if ((1<<idx)&i == 0):\n",
    "            sl.append(num[idx])\n",
    "    op.append(sl)"
   ]
  },
  {
   "cell_type": "code",
   "execution_count": 3,
   "id": "d0b04845",
   "metadata": {},
   "outputs": [
    {
     "data": {
      "text/plain": [
       "[[1, 2, 3], [2, 3], [1, 3], [3], [1, 2], [2], [1], []]"
      ]
     },
     "execution_count": 3,
     "metadata": {},
     "output_type": "execute_result"
    }
   ],
   "source": [
    "op"
   ]
  },
  {
   "cell_type": "markdown",
   "id": "6a8a27be",
   "metadata": {},
   "source": [
    "Check my Submission: https://leetcode.com/problems/subsets/submissions/909938215/"
   ]
  },
  {
   "cell_type": "markdown",
   "id": "b346561d",
   "metadata": {},
   "source": [
    "## Q2. Hamming Distance"
   ]
  },
  {
   "cell_type": "code",
   "execution_count": 4,
   "id": "c8e4354c",
   "metadata": {},
   "outputs": [],
   "source": [
    "x = 7\n",
    "y = 20"
   ]
  },
  {
   "cell_type": "code",
   "execution_count": 5,
   "id": "3d9cc891",
   "metadata": {},
   "outputs": [],
   "source": [
    "def hamming(x, y):\n",
    "    xor = x ^ y\n",
    "    set_bits = 0\n",
    "    \n",
    "    while(xor):\n",
    "        xor = (xor & (xor -1))\n",
    "        set_bits += 1\n",
    "    \n",
    "    return set_bits"
   ]
  },
  {
   "cell_type": "code",
   "execution_count": 6,
   "id": "46235e00",
   "metadata": {},
   "outputs": [
    {
     "data": {
      "text/plain": [
       "3"
      ]
     },
     "execution_count": 6,
     "metadata": {},
     "output_type": "execute_result"
    }
   ],
   "source": [
    "hamming(x, y)"
   ]
  },
  {
   "cell_type": "markdown",
   "id": "0f2c6bcf",
   "metadata": {},
   "source": [
    "Check my Submission: https://leetcode.com/problems/hamming-distance/submissions/909944439/"
   ]
  },
  {
   "cell_type": "markdown",
   "id": "b1d16967",
   "metadata": {},
   "source": [
    "## Q3. Single Number II"
   ]
  },
  {
   "cell_type": "code",
   "execution_count": 7,
   "id": "c2d51944",
   "metadata": {},
   "outputs": [],
   "source": [
    "nums = [2, 2, 3, 2]"
   ]
  },
  {
   "cell_type": "code",
   "execution_count": 8,
   "id": "324c852f",
   "metadata": {},
   "outputs": [
    {
     "name": "stdout",
     "output_type": "stream",
     "text": [
      "3\n"
     ]
    }
   ],
   "source": [
    "for i in nums:\n",
    "    if nums.count(i) == 1: print(i)"
   ]
  },
  {
   "cell_type": "markdown",
   "id": "7f4dcdd0",
   "metadata": {},
   "source": [
    "Check my Submission: https://leetcode.com/problems/single-number-ii/submissions/909950898/"
   ]
  },
  {
   "cell_type": "code",
   "execution_count": null,
   "id": "b06b416c",
   "metadata": {},
   "outputs": [],
   "source": []
  }
 ],
 "metadata": {
  "kernelspec": {
   "display_name": "Python 3",
   "language": "python",
   "name": "python3"
  },
  "language_info": {
   "codemirror_mode": {
    "name": "ipython",
    "version": 3
   },
   "file_extension": ".py",
   "mimetype": "text/x-python",
   "name": "python",
   "nbconvert_exporter": "python",
   "pygments_lexer": "ipython3",
   "version": "3.8.10"
  }
 },
 "nbformat": 4,
 "nbformat_minor": 5
}
