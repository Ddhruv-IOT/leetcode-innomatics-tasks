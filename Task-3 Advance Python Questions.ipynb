{
 "cells": [
  {
   "cell_type": "markdown",
   "id": "da36b371",
   "metadata": {},
   "source": [
    "## Q1. Maximum Product of Two Elements in an Array"
   ]
  },
  {
   "cell_type": "code",
   "execution_count": 1,
   "id": "713d05ba",
   "metadata": {},
   "outputs": [],
   "source": [
    "nums = [3, 4, 5, 5]"
   ]
  },
  {
   "cell_type": "code",
   "execution_count": 2,
   "id": "a5bddfea",
   "metadata": {},
   "outputs": [],
   "source": [
    "def sort(arr):\n",
    "    length = len(arr)\n",
    "    for i in range(length):\n",
    "        for j in range(0, length - i - 1):\n",
    "            if arr[j] > arr[j + 1]:\n",
    "                arr[j] , arr[j + 1] = arr[j + 1], arr[j]\n",
    "    return arr\n",
    "    "
   ]
  },
  {
   "cell_type": "code",
   "execution_count": 3,
   "id": "487f8a53",
   "metadata": {},
   "outputs": [
    {
     "data": {
      "text/plain": [
       "[3, 4, 5, 5]"
      ]
     },
     "execution_count": 3,
     "metadata": {},
     "output_type": "execute_result"
    }
   ],
   "source": [
    "sort(nums)"
   ]
  },
  {
   "cell_type": "code",
   "execution_count": 4,
   "id": "c0f48b4e",
   "metadata": {},
   "outputs": [],
   "source": [
    "max_sum = ((nums[-1] - 1) * (nums[-2] - 1))"
   ]
  },
  {
   "cell_type": "code",
   "execution_count": 5,
   "id": "705957f3",
   "metadata": {},
   "outputs": [
    {
     "data": {
      "text/plain": [
       "16"
      ]
     },
     "execution_count": 5,
     "metadata": {},
     "output_type": "execute_result"
    }
   ],
   "source": [
    "max_sum"
   ]
  },
  {
   "cell_type": "markdown",
   "id": "7b5a1aa2",
   "metadata": {},
   "source": [
    "Check my Submission: https://leetcode.com/problems/maximum-product-of-two-elements-in-an-array/submissions/909695259/"
   ]
  },
  {
   "cell_type": "markdown",
   "id": "fd680ca0",
   "metadata": {},
   "source": [
    "## Q2. Count Number of Teams"
   ]
  },
  {
   "cell_type": "code",
   "execution_count": 6,
   "id": "3f65e58e",
   "metadata": {},
   "outputs": [],
   "source": [
    "rating = [1, 5, 2]"
   ]
  },
  {
   "cell_type": "code",
   "execution_count": 7,
   "id": "1b096000",
   "metadata": {},
   "outputs": [
    {
     "data": {
      "text/plain": [
       "0"
      ]
     },
     "execution_count": 7,
     "metadata": {},
     "output_type": "execute_result"
    }
   ],
   "source": [
    "from collections import defaultdict\n",
    "\n",
    "greater = defaultdict(int)\n",
    "lesser = defaultdict(int)\n",
    "\n",
    "for i in range(len(rating)-1):\n",
    "    for j in range(i+1, len(rating)):\n",
    "        if rating[i] < rating[j]:\n",
    "            greater[i] += 1\n",
    "        else:\n",
    "            lesser[i] += 1\n",
    "ans = 0\n",
    "\n",
    "for i in range(len(rating)-2):\n",
    "    for j in range(i+1, len(rating)):\n",
    "        if rating[i] < rating[j]:\n",
    "            ans+=greater[j]\n",
    "        else:\n",
    "            ans+=lesser[j]    \n",
    "ans"
   ]
  },
  {
   "cell_type": "markdown",
   "id": "9460d300",
   "metadata": {},
   "source": [
    "Check my Submission: https://leetcode.com/problems/count-number-of-teams/submissions/909711113/"
   ]
  },
  {
   "cell_type": "markdown",
   "id": "59fdf51b",
   "metadata": {},
   "source": [
    "## Q3. Number of Students Doing Homework at a Given Time"
   ]
  },
  {
   "cell_type": "code",
   "execution_count": 8,
   "id": "801175c8",
   "metadata": {},
   "outputs": [],
   "source": [
    "startTime = [2]\n",
    "endTime = [2]\n",
    "queryTime = 4"
   ]
  },
  {
   "cell_type": "code",
   "execution_count": 9,
   "id": "b868449d",
   "metadata": {},
   "outputs": [
    {
     "name": "stdout",
     "output_type": "stream",
     "text": [
      "0\n"
     ]
    }
   ],
   "source": [
    "count = 0\n",
    "for i, j in zip(startTime, endTime):\n",
    "    if (queryTime >=i and queryTime <= j):\n",
    "        count += 1\n",
    "print(count)"
   ]
  },
  {
   "cell_type": "markdown",
   "id": "4e6d1bbf",
   "metadata": {},
   "source": [
    "Check my Submission: https://leetcode.com/problems/number-of-students-doing-homework-at-a-given-time/submissions/909716546/"
   ]
  },
  {
   "cell_type": "markdown",
   "id": "14221450",
   "metadata": {},
   "source": [
    "## Q4. Number of Steps to Reduce a Number to Zero"
   ]
  },
  {
   "cell_type": "code",
   "execution_count": 10,
   "id": "bf9c6892",
   "metadata": {},
   "outputs": [],
   "source": [
    "num = 123"
   ]
  },
  {
   "cell_type": "code",
   "execution_count": 11,
   "id": "6c21a004",
   "metadata": {},
   "outputs": [],
   "source": [
    "steps = 0\n",
    "\n",
    "while(num): \n",
    "    if num % 2 == 0:\n",
    "        num /= 2\n",
    "        steps +=1\n",
    "    else:\n",
    "        num -= 1\n",
    "        steps +=1\n",
    "        "
   ]
  },
  {
   "cell_type": "code",
   "execution_count": 12,
   "id": "41f780ad",
   "metadata": {},
   "outputs": [
    {
     "data": {
      "text/plain": [
       "12"
      ]
     },
     "execution_count": 12,
     "metadata": {},
     "output_type": "execute_result"
    }
   ],
   "source": [
    "steps"
   ]
  },
  {
   "cell_type": "markdown",
   "id": "4f5cdb1e",
   "metadata": {},
   "source": [
    "Check my Submission: https://leetcode.com/problems/number-of-steps-to-reduce-a-number-to-zero/submissions/909718935/"
   ]
  },
  {
   "cell_type": "markdown",
   "id": "c731068d",
   "metadata": {},
   "source": [
    "## Q5. Counting Bits"
   ]
  },
  {
   "cell_type": "code",
   "execution_count": 13,
   "id": "dc814638",
   "metadata": {},
   "outputs": [],
   "source": [
    "n = 10"
   ]
  },
  {
   "cell_type": "code",
   "execution_count": 14,
   "id": "1761d402",
   "metadata": {},
   "outputs": [],
   "source": [
    "def my_ones(n):\n",
    "    \"\"\" Returns No. of Ones\"\"\"\n",
    "    count = 0 \n",
    "    while(n):\n",
    "        count += n & 1\n",
    "        n = n >> 1\n",
    "    return count"
   ]
  },
  {
   "cell_type": "code",
   "execution_count": 15,
   "id": "934b08d9",
   "metadata": {},
   "outputs": [
    {
     "data": {
      "text/plain": [
       "[0, 1, 1, 2, 1, 2, 2, 3, 1, 2, 2]"
      ]
     },
     "execution_count": 15,
     "metadata": {},
     "output_type": "execute_result"
    }
   ],
   "source": [
    "[my_ones(i) for i in range(0, n+1) ]"
   ]
  },
  {
   "cell_type": "markdown",
   "id": "8fd2acf0",
   "metadata": {},
   "source": [
    "Check my Submission: https://leetcode.com/problems/counting-bits/submissions/909740251/"
   ]
  }
 ],
 "metadata": {
  "kernelspec": {
   "display_name": "Python 3",
   "language": "python",
   "name": "python3"
  },
  "language_info": {
   "codemirror_mode": {
    "name": "ipython",
    "version": 3
   },
   "file_extension": ".py",
   "mimetype": "text/x-python",
   "name": "python",
   "nbconvert_exporter": "python",
   "pygments_lexer": "ipython3",
   "version": "3.8.10"
  }
 },
 "nbformat": 4,
 "nbformat_minor": 5
}
